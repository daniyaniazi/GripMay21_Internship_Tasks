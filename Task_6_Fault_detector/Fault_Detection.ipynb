{
 "cells": [
  {
   "cell_type": "markdown",
   "metadata": {},
   "source": [
    "# Task 6 : Fault Detector\n",
    "\n",
    "## Submitted By: Daniya\n",
    "\n",
    "### Implementation: \n",
    "            This system accept Rectangular shape of blue color products only anyother shape od blue color product is consider as defective"
   ]
  },
  {
   "cell_type": "code",
   "execution_count": 2,
   "metadata": {},
   "outputs": [],
   "source": [
    "import cv2\n",
    "import numpy as np\n",
    "from win32com.client import Dispatch\n",
    "import winsound"
   ]
  },
  {
   "cell_type": "code",
   "execution_count": 7,
   "metadata": {},
   "outputs": [],
   "source": [
    "def empty(img):\n",
    "    pass\n",
    "\n",
    "def alert(str):\n",
    "    speak= Dispatch((\"SAPI.SpVoice\"))\n",
    "    speak.Speak(str)\n",
    "\n",
    "# Resize the video Frame\n",
    "def rescale_frame(frame, percent=50):\n",
    "    width = int(frame.shape[1] * percent/ 100)\n",
    "    height = int(frame.shape[0] * percent/ 100)\n",
    "    dim = (width, height)\n",
    "    return cv2.resize(frame, dim, interpolation =cv2.INTER_AREA)     "
   ]
  },
  {
   "cell_type": "markdown",
   "metadata": {},
   "source": [
    "# Getting Upper and Lower Bounds\n",
    "I have used track bar to get the upper and lowers bounds on blue colors"
   ]
  },
  {
   "cell_type": "markdown",
   "metadata": {},
   "source": [
    "    cv2.namedWindow(\"TrackBar\")\n",
    "    cv2.resizeWindow(\"TracKBar\",600,300)\n",
    "    cv2.createTrackbar(\"hue_min\",\"TrackBar\",0,179,empty)\n",
    "    cv2.createTrackbar(\"hue_max\",\"TrackBar\",179,179,empty)\n",
    "    cv2.createTrackbar(\"sat_min\",\"TrackBar\",0,255,empty)\n",
    "    cv2.createTrackbar(\"sat_max\",\"TrackBar\",255,255,empty)\n",
    "    cv2.createTrackbar(\"val_min\",\"TrackBar\",0,255,empty)\n",
    "    cv2.createTrackbar(\"val_max\",\"TrackBar\",255,255,empty)\n",
    "\n",
    "   \n",
    "    getting mask values\n",
    "    hue_min= cv2.getTrackbarPos(\"hue_min\",\"TrackBar\")\n",
    "    hue_max= cv2.getTrackbarPos(\"hue_max\",\"TrackBar\")\n",
    "    sat_min= cv2.getTrackbarPos(\"sat_min\",\"TrackBar\")\n",
    "    sat_max= cv2.getTrackbarPos(\"hue_min\",\"TrackBar\")\n",
    "    val_min= cv2.getTrackbarPos(\"val_min\",\"TrackBar\")\n",
    "    val_max= cv2.getTrackbarPos(\"val_max\",\"TrackBar\")\n",
    "    "
   ]
  },
  {
   "cell_type": "code",
   "execution_count": 50,
   "metadata": {
    "scrolled": true
   },
   "outputs": [],
   "source": [
    "video = cv2.VideoCapture(\"test.mp4\") #0\n",
    "\n",
    "while(video.isOpened()):\n",
    "    fault_products=False\n",
    "    ret , img = video.read()\n",
    "#     img= cv2.imread(\"imgtest.jfif\")\n",
    "#     cv2.imshow(\"img\",img)\n",
    "    if(ret):\n",
    "        img = rescale_frame(img, percent=50)\n",
    "        #making  mask\n",
    "        hsv = cv2.cvtColor(img , cv2.COLOR_BGR2HSV)\n",
    "\n",
    "        #Blue Color Object is Accepted\n",
    "        lower= np.array([104,68,0])\n",
    "        upper= np.array([134,255,241])\n",
    "\n",
    "        mask = cv2.inRange(hsv,lower,upper)\n",
    "\n",
    "        #FIND CONTOURS\n",
    "        _,cnts,hei = cv2.findContours(mask,cv2.RETR_EXTERNAL , cv2.CHAIN_APPROX_NONE)\n",
    "        for c in cnts:\n",
    "            area= cv2.contourArea(c)\n",
    "            approx=[1,2]\n",
    "            x,y,w,h=0,0,0,0\n",
    "            if area>300:\n",
    "                peri=cv2.arcLength(c,True)\n",
    "                approx=cv2.approxPolyDP(c,0.02*peri,True)\n",
    "                x,y,w,h = cv2.boundingRect(c)\n",
    "                cv2.rectangle(img,(x,y),(x+w,y+h),(0,255,0),2)\n",
    "\n",
    "            if len(approx)==2:\n",
    "                pass\n",
    "            elif len(approx)==4:\n",
    "                cv2.putText(img,\"Correct\",(x,y+h+45) , cv2.FONT_HERSHEY_COMPLEX, 0.5 , (0,255,0),2)\n",
    "            elif len(approx)==3:\n",
    "                cv2.rectangle(img, (0, 10), (150, 50), (0, 255, 255), -1)\n",
    "                cv2.putText(img,\"ALERT\",(5,40), cv2.FONT_HERSHEY_COMPLEX, 1, (0,0,0),2) \n",
    "                cv2.putText(img,\"DEFECTED\",(x,y+h+25) , cv2.FONT_HERSHEY_COMPLEX, 0.5 , (0,0,255),2)\n",
    "#                 winsound.PlaySound(\"SystemExclamation\", winsound.SND_ALIAS)\n",
    "#                 alert(\"Defected Product Found\")\n",
    "            else:\n",
    "                cv2.rectangle(img, (0, 10), (150, 50), (0, 255, 255), -1)\n",
    "                cv2.putText(img,\"ALERT\",(5,40), cv2.FONT_HERSHEY_COMPLEX, 1, (0,0,0),2) \n",
    "                cv2.putText(img,\"DEFECTED\",(x,y+h+25) , cv2.FONT_HERSHEY_COMPLEX, 0.5 , (0,0,255),2)      \n",
    "#                 winsound.PlaySound(\"SystemExclamation\", winsound.SND_ALIAS)\n",
    "#                 alert(\"Defected Product Found\")\n",
    "        cv2.imshow(\"Frame\",img)\n",
    "        k=cv2.waitKey(1)\n",
    "        if k == ord('q'):\n",
    "            break\n",
    "    else:\n",
    "        cv2.destroyAllWindows()\n",
    "        break\n",
    "        \n",
    "video.release()\n",
    "cv2.destroyAllWindows()"
   ]
  }
 ],
 "metadata": {
  "kernelspec": {
   "display_name": "Python 3",
   "language": "python",
   "name": "python3"
  },
  "language_info": {
   "codemirror_mode": {
    "name": "ipython",
    "version": 3
   },
   "file_extension": ".py",
   "mimetype": "text/x-python",
   "name": "python",
   "nbconvert_exporter": "python",
   "pygments_lexer": "ipython3",
   "version": "3.7.4"
  }
 },
 "nbformat": 4,
 "nbformat_minor": 2
}
